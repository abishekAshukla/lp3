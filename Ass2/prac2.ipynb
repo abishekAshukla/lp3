{
 "cells": [
  {
   "cell_type": "code",
   "execution_count": 7,
   "metadata": {},
   "outputs": [
    {
     "name": "stdout",
     "output_type": "stream",
     "text": [
      "- Q - - - - - - \n",
      "- - - - Q - - - \n",
      "- - - - - - Q - \n",
      "Q - - - - - - - \n",
      "- - Q - - - - - \n",
      "- - - - - - - Q \n",
      "- - - - - Q - - \n",
      "- - - Q - - - - \n"
     ]
    }
   ],
   "source": [
    "def printBoard(board):\n",
    "    for row in board:\n",
    "        for cell in row:\n",
    "            if cell == 1:\n",
    "                print('Q', end=\" \")\n",
    "            else:\n",
    "                print('-', end=\" \")\n",
    "        print()\n",
    "\n",
    "def isSafe(board, row, col):\n",
    "    n = len(board)\n",
    "\n",
    "    for i in range(col):\n",
    "        if board[row][i] == 1:\n",
    "            return False\n",
    "        \n",
    "    for i, j in zip(range(row, -1, -1), range(col, -1, -1)):\n",
    "        if board[i][j] == 1:\n",
    "            return False\n",
    "        \n",
    "    for i, j in zip(range(row, n, 1), range(col, -1, -1)):\n",
    "        if board[i][j] == 1:\n",
    "            return False\n",
    "        \n",
    "    return True\n",
    "\n",
    "def solve(board, col):\n",
    "    n = len(board)\n",
    "\n",
    "    if col == n:\n",
    "        return True\n",
    "    \n",
    "    for r in range(n):\n",
    "        if isSafe(board, r, col):\n",
    "            board[r][col] = 1\n",
    "            if solve(board, col + 1):\n",
    "                return True\n",
    "            board[r][col] = 0\n",
    "        \n",
    "    return False\n",
    "\n",
    "\n",
    "n = 8\n",
    "board = [[0 for _ in range(n)] for _ in range(n)]\n",
    "board[3][0] = 1\n",
    "if solve(board, 1):\n",
    "    printBoard(board)\n",
    "else:\n",
    "    print(\"no sol\")"
   ]
  }
 ],
 "metadata": {
  "kernelspec": {
   "display_name": "base",
   "language": "python",
   "name": "python3"
  },
  "language_info": {
   "codemirror_mode": {
    "name": "ipython",
    "version": 3
   },
   "file_extension": ".py",
   "mimetype": "text/x-python",
   "name": "python",
   "nbconvert_exporter": "python",
   "pygments_lexer": "ipython3",
   "version": "3.10.9"
  }
 },
 "nbformat": 4,
 "nbformat_minor": 2
}
