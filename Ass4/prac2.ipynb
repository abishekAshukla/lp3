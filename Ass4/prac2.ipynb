{
 "cells": [
  {
   "cell_type": "code",
   "execution_count": 10,
   "metadata": {},
   "outputs": [
    {
     "name": "stdout",
     "output_type": "stream",
     "text": [
      "[{'item': 'item2', 'value': 24, 'weight': 15, 'ratio': 1.6}, {'item': 'item3', 'value': 7.5, 'weight': 5.0}]\n",
      "31.5\n"
     ]
    }
   ],
   "source": [
    "def fracKnapsack(items, capacity):\n",
    "    n = len(items)\n",
    "    for item in items:\n",
    "        item['ratio'] = item['value']/item['weight']\n",
    "\n",
    "    items.sort(key=lambda x: x['ratio'], reverse=True)\n",
    "\n",
    "    knapsack = []\n",
    "    totalVal = 0\n",
    "    for item in items:\n",
    "        if item['weight'] <= capacity:\n",
    "            knapsack.append(item)\n",
    "            capacity -= item['weight']\n",
    "            totalVal += item['value']\n",
    "        else:\n",
    "            fraction = capacity/item['weight']\n",
    "            knapsack.append({'item': item['item'], 'value': item['value']*fraction, 'weight': item['weight']*fraction})\n",
    "            totalVal += item['value']*fraction\n",
    "            break\n",
    "\n",
    "    return knapsack, totalVal\n",
    "\n",
    "\n",
    "\n",
    "\n",
    "\n",
    "\n",
    "items = [\n",
    "     {'item': 'item1', 'value': 25, 'weight': 18},\n",
    "    {'item': 'item2', 'value': 24, 'weight': 15},\n",
    "    {'item': 'item3', 'value': 15, 'weight': 10}\n",
    "]\n",
    "capacity = 20\n",
    "knapsack, val = fracKnapsack(items, capacity)\n",
    "print(knapsack)\n",
    "print(val)\n"
   ]
  }
 ],
 "metadata": {
  "kernelspec": {
   "display_name": "base",
   "language": "python",
   "name": "python3"
  },
  "language_info": {
   "codemirror_mode": {
    "name": "ipython",
    "version": 3
   },
   "file_extension": ".py",
   "mimetype": "text/x-python",
   "name": "python",
   "nbconvert_exporter": "python",
   "pygments_lexer": "ipython3",
   "version": "3.10.9"
  }
 },
 "nbformat": 4,
 "nbformat_minor": 2
}
