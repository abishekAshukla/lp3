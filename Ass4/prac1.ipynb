{
 "cells": [
  {
   "cell_type": "code",
   "execution_count": 3,
   "metadata": {},
   "outputs": [
    {
     "name": "stdout",
     "output_type": "stream",
     "text": [
      "31.5\n",
      "item2   24   15\n",
      "item3   7.5   5.0\n"
     ]
    }
   ],
   "source": [
    "def fractionalKnapsack(items, maxCap):\n",
    "    # calculate value/weight of each item\n",
    "    for item in items:\n",
    "        item['ratio'] = item['value']/item['weight']\n",
    "\n",
    "    # sort\n",
    "    items.sort(key=lambda x: x['ratio'], reverse=True)\n",
    "\n",
    "    totalVal = 0\n",
    "    knapsack = []\n",
    "\n",
    "    for item in items:\n",
    "        if item['weight'] <= maxCap:\n",
    "            knapsack.append(item)\n",
    "            totalVal += item['value']\n",
    "            maxCap -= item['weight']\n",
    "        else:\n",
    "            fraction = maxCap/item['weight']\n",
    "            knapsack.append({'item': item['item'], 'value': item['value']*fraction, 'weight': item['weight']*fraction})\n",
    "            totalVal += item['value']*fraction\n",
    "            break\n",
    "\n",
    "    return knapsack, totalVal\n",
    "\n",
    "def printKnapsack(items):\n",
    "    for item in items:\n",
    "        print(item['item'], \" \", item['value'], \" \", item['weight'])\n",
    "\n",
    "# input\n",
    "items = [\n",
    "    {'item': 'item1', 'value': 25, 'weight': 18},\n",
    "    {'item': 'item2', 'value': 24, 'weight': 15},\n",
    "    {'item': 'item3', 'value': 15, 'weight': 10}\n",
    "]\n",
    "maxVal = 20\n",
    "knapsack, ans = fractionalKnapsack(items, maxVal)\n",
    "print(ans)\n",
    "printKnapsack(knapsack)"
   ]
  }
 ],
 "metadata": {
  "kernelspec": {
   "display_name": "base",
   "language": "python",
   "name": "python3"
  },
  "language_info": {
   "codemirror_mode": {
    "name": "ipython",
    "version": 3
   },
   "file_extension": ".py",
   "mimetype": "text/x-python",
   "name": "python",
   "nbconvert_exporter": "python",
   "pygments_lexer": "ipython3",
   "version": "3.10.9"
  }
 },
 "nbformat": 4,
 "nbformat_minor": 2
}
