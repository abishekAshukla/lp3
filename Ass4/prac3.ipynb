{
 "cells": [
  {
   "cell_type": "code",
   "execution_count": 2,
   "metadata": {},
   "outputs": [
    {
     "name": "stdout",
     "output_type": "stream",
     "text": [
      "[{'item': 'item2', 'value': 24, 'weight': 15, 'ratio': 1.6}, {'item': 'item3', 'value': 7.5, 'weight': 5.0}]\n",
      "31.5\n"
     ]
    }
   ],
   "source": [
    "def frac_knap(items, max_cap):\n",
    "    for item in items:\n",
    "        item['ratio'] = item['value']/item['weight']\n",
    "\n",
    "    # items.sort(key=lambda x: x['ratio'], reverse=True)\n",
    "    items.sort(key =lambda x: x['ratio'], reverse=True)\n",
    "\n",
    "    knap = []\n",
    "    val = 0\n",
    "    for item in items:\n",
    "        if item['weight'] <= max_cap:\n",
    "            knap.append(item)\n",
    "            val += item['value']\n",
    "            max_cap -= item['weight']\n",
    "        else:\n",
    "            fraction = max_cap/item['weight']\n",
    "            knap.append({'item': item['item'], 'value': item['value']*fraction, 'weight': item['weight']*fraction})\n",
    "            val += item['value']*fraction\n",
    "            break\n",
    "    \n",
    "    return knap, val\n",
    "\n",
    "\n",
    "items = [\n",
    "   {'item': 'item1', 'value': 25, 'weight': 18},\n",
    "    {'item': 'item2', 'value': 24, 'weight': 15},\n",
    "    {'item': 'item3', 'value': 15, 'weight': 10}\n",
    "]\n",
    "max_cap = 20\n",
    "knap, val = frac_knap(items, max_cap)\n",
    "print(knap)\n",
    "print(val)\n"
   ]
  }
 ],
 "metadata": {
  "kernelspec": {
   "display_name": "base",
   "language": "python",
   "name": "python3"
  },
  "language_info": {
   "codemirror_mode": {
    "name": "ipython",
    "version": 3
   },
   "file_extension": ".py",
   "mimetype": "text/x-python",
   "name": "python",
   "nbconvert_exporter": "python",
   "pygments_lexer": "ipython3",
   "version": "3.10.9"
  }
 },
 "nbformat": 4,
 "nbformat_minor": 2
}
