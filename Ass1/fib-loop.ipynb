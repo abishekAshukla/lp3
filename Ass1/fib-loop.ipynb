{
 "cells": [
  {
   "cell_type": "code",
   "execution_count": 8,
   "metadata": {},
   "outputs": [
    {
     "name": "stdout",
     "output_type": "stream",
     "text": [
      "0 1 1 2 3 5 8 13 21 34 55 89 \n",
      "Step count:  12\n"
     ]
    }
   ],
   "source": [
    "def fib(n):\n",
    "    n1 = 0\n",
    "    n2 = 1\n",
    "    count = 2\n",
    "    print(n1, end = \" \")\n",
    "    print(n2, end = \" \")\n",
    "    for i in range(2, n):\n",
    "        print(n1 + n2, end = \" \")\n",
    "        count += 1\n",
    "        temp  = n2\n",
    "        n2 = n1 + n2\n",
    "        n1 = temp \n",
    "    print()\n",
    "    print(\"Step count: \", count)\n",
    "\n",
    "\n",
    "n = 12\n",
    "fib(n)"
   ]
  }
 ],
 "metadata": {
  "kernelspec": {
   "display_name": "base",
   "language": "python",
   "name": "python3"
  },
  "language_info": {
   "codemirror_mode": {
    "name": "ipython",
    "version": 3
   },
   "file_extension": ".py",
   "mimetype": "text/x-python",
   "name": "python",
   "nbconvert_exporter": "python",
   "pygments_lexer": "ipython3",
   "version": "3.10.9"
  }
 },
 "nbformat": 4,
 "nbformat_minor": 2
}
