{
 "cells": [
  {
   "cell_type": "code",
   "execution_count": 9,
   "metadata": {},
   "outputs": [
    {
     "name": "stdout",
     "output_type": "stream",
     "text": [
      "1, 1, 2, 3, 5, 8, 13, 21, 34, 55, \n",
      "count:  10\n"
     ]
    }
   ],
   "source": [
    "def fibonacci(n):\n",
    "    n1 = 1\n",
    "    n2 = 1\n",
    "    count = 0\n",
    "\n",
    "    for i in range(1, n+1):\n",
    "        count += 1\n",
    "        if(i == 1):\n",
    "            print(n1, end = \", \")\n",
    "        elif(i == 2):\n",
    "            print(n2, end = \", \")\n",
    "        else:\n",
    "            nxt = n1 + n2\n",
    "            n1 = n2\n",
    "            n2 = nxt\n",
    "            print(nxt, end = \", \")\n",
    "    print()\n",
    "    print(\"count: \", count)\n",
    "\n",
    "n = int(input(\"Enter: \"))\n",
    "fibonacci(n)"
   ]
  }
 ],
 "metadata": {
  "kernelspec": {
   "display_name": "base",
   "language": "python",
   "name": "python3"
  },
  "language_info": {
   "codemirror_mode": {
    "name": "ipython",
    "version": 3
   },
   "file_extension": ".py",
   "mimetype": "text/x-python",
   "name": "python",
   "nbconvert_exporter": "python",
   "pygments_lexer": "ipython3",
   "version": "3.10.9"
  }
 },
 "nbformat": 4,
 "nbformat_minor": 2
}
