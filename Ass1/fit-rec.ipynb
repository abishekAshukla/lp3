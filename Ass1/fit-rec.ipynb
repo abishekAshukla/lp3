{
 "cells": [
  {
   "cell_type": "code",
   "execution_count": 31,
   "metadata": {},
   "outputs": [
    {
     "name": "stdout",
     "output_type": "stream",
     "text": [
      "[1, 1, 2, 3, 5]\n",
      "3\n"
     ]
    }
   ],
   "source": [
    "def fib(n, count = 0):\n",
    "    if n <= 0:\n",
    "        return [], count\n",
    "    elif n == 1:\n",
    "        return [1], count\n",
    "    elif n == 2:\n",
    "        return [1, 1], count\n",
    "    else:\n",
    "        series, count = fib(n - 1, count)\n",
    "        series.append(series[-1] + series[-2])\n",
    "        count += 1\n",
    "        return series, count\n",
    "    \n",
    "series, count = fib(5)\n",
    "print(series)\n",
    "print(count)"
   ]
  }
 ],
 "metadata": {
  "kernelspec": {
   "display_name": "base",
   "language": "python",
   "name": "python3"
  },
  "language_info": {
   "codemirror_mode": {
    "name": "ipython",
    "version": 3
   },
   "file_extension": ".py",
   "mimetype": "text/x-python",
   "name": "python",
   "nbconvert_exporter": "python",
   "pygments_lexer": "ipython3",
   "version": "3.10.9"
  }
 },
 "nbformat": 4,
 "nbformat_minor": 2
}
