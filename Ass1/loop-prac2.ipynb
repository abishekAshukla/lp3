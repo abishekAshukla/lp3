{
 "cells": [
  {
   "cell_type": "code",
   "execution_count": 5,
   "metadata": {},
   "outputs": [
    {
     "name": "stdout",
     "output_type": "stream",
     "text": [
      "0 1 1 2 3 5 8 13 21 34 \n",
      "8\n"
     ]
    }
   ],
   "source": [
    "def printfib(n):\n",
    "    if n == 0:\n",
    "        print(\"no valid\")\n",
    "        return\n",
    "    elif n == 1:\n",
    "        print(0)\n",
    "        return\n",
    "    elif n == 2:\n",
    "        print(0, 1)\n",
    "        return\n",
    "    else:\n",
    "        n1 = 0\n",
    "        n2 = 1\n",
    "        count = 0\n",
    "        print(n1, n2, end=\" \")\n",
    "        for i in range(2, n):\n",
    "            temp = n1 + n2\n",
    "            print(temp, end=\" \")\n",
    "            n1 = n2\n",
    "            n2  = temp\n",
    "            count += 1\n",
    "        print()\n",
    "        print(count)\n",
    "\n",
    "printfib(10)"
   ]
  },
  {
   "cell_type": "code",
   "execution_count": 8,
   "metadata": {},
   "outputs": [
    {
     "name": "stdout",
     "output_type": "stream",
     "text": [
      "[0, 1, 1, 2, 3, 5, 8, 13, 21, 34]\n",
      "8\n"
     ]
    }
   ],
   "source": [
    "def printfib_rec(n, count=0):\n",
    "    if n == 0:\n",
    "        print(\"no valid\")\n",
    "        return\n",
    "    elif n == 1:\n",
    "        return [0], 0\n",
    "    elif n == 2:\n",
    "        return [0, 1], 0\n",
    "    else:\n",
    "        series, count = printfib_rec(n-1)\n",
    "        series.append(series[-1] + series[-2])\n",
    "        count += 1\n",
    "        return series, count\n",
    "    \n",
    "ans, count = printfib_rec(10)\n",
    "print(ans)\n",
    "print(count)"
   ]
  }
 ],
 "metadata": {
  "kernelspec": {
   "display_name": "base",
   "language": "python",
   "name": "python3"
  },
  "language_info": {
   "codemirror_mode": {
    "name": "ipython",
    "version": 3
   },
   "file_extension": ".py",
   "mimetype": "text/x-python",
   "name": "python",
   "nbconvert_exporter": "python",
   "pygments_lexer": "ipython3",
   "version": "3.10.9"
  }
 },
 "nbformat": 4,
 "nbformat_minor": 2
}
