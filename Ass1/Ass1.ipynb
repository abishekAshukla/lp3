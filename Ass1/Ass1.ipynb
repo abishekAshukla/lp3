{
 "cells": [
  {
   "cell_type": "code",
   "execution_count": 2,
   "metadata": {},
   "outputs": [
    {
     "name": "stdout",
     "output_type": "stream",
     "text": [
      "Fibonacci Sequence: 1, 1, 2, 3, 5, 8, 13, 21, 34, 55, ...\n",
      "Total steps taken: 10\n"
     ]
    }
   ],
   "source": [
    "def fibonacci(n):\n",
    "    fib1, fib2 = 1, 1\n",
    "    step_count = 0\n",
    "\n",
    "    if n <= 0:\n",
    "        print(\"Invalid input. Please enter a positive number.\")\n",
    "    else:\n",
    "        for i in range(1, n + 1):\n",
    "            step_count += 1\n",
    "            if i == 1:\n",
    "                print(\"Fibonacci Sequence:\", fib1, end=\", \")\n",
    "            elif i == 2:\n",
    "                print(fib2, end=\", \")\n",
    "            else:\n",
    "                next_term = fib1 + fib2\n",
    "                fib1, fib2 = fib2, next_term\n",
    "                print(next_term, end=\", \")\n",
    "\n",
    "        print(\"...\")\n",
    "        print(\"Total steps taken:\", step_count)\n",
    "\n",
    "n = int(input(\"Enter the number of Fibonacci terms to calculate: \"))\n",
    "fibonacci(n)\n"
   ]
  }
 ],
 "metadata": {
  "kernelspec": {
   "display_name": "base",
   "language": "python",
   "name": "python3"
  },
  "language_info": {
   "codemirror_mode": {
    "name": "ipython",
    "version": 3
   },
   "file_extension": ".py",
   "mimetype": "text/x-python",
   "name": "python",
   "nbconvert_exporter": "python",
   "pygments_lexer": "ipython3",
   "version": "3.10.9"
  }
 },
 "nbformat": 4,
 "nbformat_minor": 2
}
