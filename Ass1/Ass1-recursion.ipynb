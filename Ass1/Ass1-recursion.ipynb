{
 "cells": [
  {
   "cell_type": "code",
   "execution_count": 1,
   "metadata": {},
   "outputs": [
    {
     "name": "stdout",
     "output_type": "stream",
     "text": [
      "Fibonacci Series for the first 5 terms: [0, 1, 1, 2, 3]\n",
      "Step count: 5\n"
     ]
    }
   ],
   "source": [
    "def calculate_fibonacci_series(n):\n",
    "    a, b = 0, 1\n",
    "    step_count = 0\n",
    "    fibonacci_series = []\n",
    "\n",
    "    for i in range(n):\n",
    "        step_count += 1\n",
    "        fibonacci_series.append(a)\n",
    "        a, b = b, a+b\n",
    "\n",
    "    return fibonacci_series, step_count\n",
    "\n",
    "# Input from the user\n",
    "n = int(input(\"Enter the number of terms in the Fibonacci series: \"))\n",
    "\n",
    "# Calculate the Fibonacci series and step count\n",
    "fibonacci_series, step_count = calculate_fibonacci_series(n)\n",
    "\n",
    "print(f\"Fibonacci Series for the first {n} terms: {fibonacci_series}\")\n",
    "print(f\"Step count: {step_count}\")"
   ]
  }
 ],
 "metadata": {
  "kernelspec": {
   "display_name": "base",
   "language": "python",
   "name": "python3"
  },
  "language_info": {
   "codemirror_mode": {
    "name": "ipython",
    "version": 3
   },
   "file_extension": ".py",
   "mimetype": "text/x-python",
   "name": "python",
   "nbconvert_exporter": "python",
   "pygments_lexer": "ipython3",
   "version": "3.10.9"
  }
 },
 "nbformat": 4,
 "nbformat_minor": 2
}
