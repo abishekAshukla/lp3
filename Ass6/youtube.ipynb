{
 "cells": [
  {
   "cell_type": "code",
   "execution_count": 2,
   "metadata": {},
   "outputs": [
    {
     "name": "stdout",
     "output_type": "stream",
     "text": [
      "Sorted array:\n",
      "1 5 32 89 98 "
     ]
    }
   ],
   "source": [
    "# Function to find the partition position\n",
    "def partition1(array, low, high):\n",
    "    pivot = array[low]\n",
    "    i = low\n",
    "    j = high\n",
    "\n",
    "    while True:\n",
    "        while i < high and array[i] <= pivot:\n",
    "            i += 1\n",
    "        while array[j] > pivot:\n",
    "            j -= 1\n",
    "        if i < j:\n",
    "            # Swap elements using a temporary variable\n",
    "            array[i], array[j] = array[j], array[i]\n",
    "        else:\n",
    "            break\n",
    "\n",
    "    array[j], array[low] = array[low], array[j]\n",
    "    return j\n",
    "\n",
    "# Function to perform quicksort\n",
    "def quicksort(array, low, high):\n",
    "    if low < high:\n",
    "        pi = partition1(array, low, high)\n",
    "        quicksort(array, low, pi - 1)\n",
    "        quicksort(array, pi + 1, high)\n",
    "\n",
    "array = [98, 1, 89, 32, 5]\n",
    "N = len(array)\n",
    "\n",
    "# Function call\n",
    "quicksort(array, 0, N - 1)\n",
    "print('Sorted array:')\n",
    "for x in array:\n",
    "    print(x, end=\" \")\n"
   ]
  },
  {
   "cell_type": "code",
   "execution_count": 16,
   "metadata": {},
   "outputs": [
    {
     "name": "stdout",
     "output_type": "stream",
     "text": [
      "Sorted array in descending order:\n",
      "10 9 8 7 5 1 "
     ]
    }
   ],
   "source": [
    "# Function to find the partition position\n",
    "def partition1(array, low, high):\n",
    "    pivot = array[low]\n",
    "    i = low\n",
    "    j = high\n",
    "\n",
    "    while True:\n",
    "        while i < high and array[i] >= pivot:  # Changed the comparison to >=\n",
    "            i += 1\n",
    "        while array[j] < pivot:  # Changed the comparison to <\n",
    "            j -= 1\n",
    "        if i < j:\n",
    "            # Swap elements using a temporary variable\n",
    "            array[i], array[j] = array[j], array[i]\n",
    "        else:\n",
    "            break\n",
    "\n",
    "    array[j], array[low] = array[low], array[j]\n",
    "    return j\n",
    "\n",
    "# Function to perform quicksort in descending order\n",
    "def quicksort_descending(array, low, high):\n",
    "    if low < high:\n",
    "        pi = partition1(array, low, high)\n",
    "        quicksort_descending(array, low, pi - 1)\n",
    "        quicksort_descending(array, pi + 1, high)\n",
    "\n",
    "array = [10, 7, 8, 9, 1, 5]\n",
    "N = len(array)\n",
    "\n",
    "# Function call\n",
    "quicksort_descending(array, 0, N - 1)\n",
    "print('Sorted array in descending order:')\n",
    "for x in array:\n",
    "    print(x, end=\" \")\n"
   ]
  }
 ],
 "metadata": {
  "kernelspec": {
   "display_name": "base",
   "language": "python",
   "name": "python3"
  },
  "language_info": {
   "codemirror_mode": {
    "name": "ipython",
    "version": 3
   },
   "file_extension": ".py",
   "mimetype": "text/x-python",
   "name": "python",
   "nbconvert_exporter": "python",
   "pygments_lexer": "ipython3",
   "version": "3.10.9"
  }
 },
 "nbformat": 4,
 "nbformat_minor": 2
}
