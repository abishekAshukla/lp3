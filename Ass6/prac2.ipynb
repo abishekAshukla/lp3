{
 "cells": [
  {
   "cell_type": "code",
   "execution_count": 3,
   "metadata": {},
   "outputs": [
    {
     "name": "stdout",
     "output_type": "stream",
     "text": [
      "[50, 30, 10, 5, 3, 2]\n"
     ]
    }
   ],
   "source": [
    "def partition1(array, low, high):\n",
    "    pivot = array[low]\n",
    "    i = low\n",
    "    j = high\n",
    "\n",
    "    while True:\n",
    "        while i < high and array[i] >= pivot:\n",
    "            i += 1\n",
    "        while array[j] < pivot:\n",
    "            j -= 1\n",
    "        if i < j:\n",
    "            array[i], array[j] = array[j], array[i]\n",
    "        else:\n",
    "            break\n",
    "    array[low], array[j] = array[j], array[low]\n",
    "    return j\n",
    "\n",
    "\n",
    "def bubble(array, low, high):\n",
    "    if low < high:\n",
    "        part = partition1(array, low, high)\n",
    "        bubble(array, low, part-1)\n",
    "        bubble(array, part+1, high)\n",
    "\n",
    "array = [50, 10, 30, 5, 3, 2]\n",
    "bubble(array, 0, len(array)-1)\n",
    "print(array)"
   ]
  }
 ],
 "metadata": {
  "kernelspec": {
   "display_name": "base",
   "language": "python",
   "name": "python3"
  },
  "language_info": {
   "codemirror_mode": {
    "name": "ipython",
    "version": 3
   },
   "file_extension": ".py",
   "mimetype": "text/x-python",
   "name": "python",
   "nbconvert_exporter": "python",
   "pygments_lexer": "ipython3",
   "version": "3.10.9"
  }
 },
 "nbformat": 4,
 "nbformat_minor": 2
}
