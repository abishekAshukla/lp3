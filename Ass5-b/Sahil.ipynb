{
 "cells": [
  {
   "cell_type": "code",
   "execution_count": 6,
   "metadata": {},
   "outputs": [
    {
     "name": "stdout",
     "output_type": "stream",
     "text": [
      "Maximum value in the knapsack: 100\n",
      "Selected items: [0, 1, 3]\n"
     ]
    }
   ],
   "source": [
    "def knapsack_dynamic_programming(values, weights, capacity):\n",
    "    n = len(values)\n",
    "    dp = [[0] * (capacity + 1) for _ in range(n + 1)]\n",
    "\n",
    "    for i in range(n + 1):\n",
    "        for w in range(capacity + 1):\n",
    "            if i == 0 or w == 0:\n",
    "                dp[i][w] = 0\n",
    "            elif weights[i - 1] <= w:\n",
    "                dp[i][w] = max(values[i - 1] + dp[i - 1][w - weights[i - 1]], dp[i - 1][w])\n",
    "            else:\n",
    "                dp[i][w] = dp[i - 1][w]\n",
    "\n",
    "    selected_items = []\n",
    "    i, w = n, capacity\n",
    "    while i > 0 and w > 0:\n",
    "        if dp[i][w] != dp[i - 1][w]:\n",
    "            selected_items.append(i - 1)\n",
    "            w -= weights[i - 1]\n",
    "        i -= 1\n",
    "\n",
    "    selected_items.reverse()\n",
    "    return dp[n][capacity], selected_items\n",
    "\n",
    "# Example usage\n",
    "values = [20, 30, 10, 50]\n",
    "weights = [1, 3, 4, 6]\n",
    "capacity = 10\n",
    "\n",
    "max_value, selected_items = knapsack_dynamic_programming(values, weights, capacity)\n",
    "print(\"Maximum value in the knapsack:\", max_value)\n",
    "print(\"Selected items:\", selected_items)"
   ]
  }
 ],
 "metadata": {
  "kernelspec": {
   "display_name": "base",
   "language": "python",
   "name": "python3"
  },
  "language_info": {
   "codemirror_mode": {
    "name": "ipython",
    "version": 3
   },
   "file_extension": ".py",
   "mimetype": "text/x-python",
   "name": "python",
   "nbconvert_exporter": "python",
   "pygments_lexer": "ipython3",
   "version": "3.10.9"
  }
 },
 "nbformat": 4,
 "nbformat_minor": 2
}
