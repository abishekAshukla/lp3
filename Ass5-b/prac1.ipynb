{
 "cells": [
  {
   "cell_type": "code",
   "execution_count": 5,
   "metadata": {},
   "outputs": [
    {
     "name": "stdout",
     "output_type": "stream",
     "text": [
      "100\n",
      "[0, 1, 3]\n"
     ]
    }
   ],
   "source": [
    "def knapsack(weights, values, capacity):\n",
    "    n = len(weights)\n",
    "    dp = [[0] * (capacity + 1) for _ in range(n + 1)]\n",
    "    # dp = [[0 for _ in range(capacity + 1)] for _ in range(n + 1)]\n",
    "    for i in range(n + 1):\n",
    "        for j in range(capacity + 1):\n",
    "            if i == 0 or j == 0:\n",
    "                dp[i][j] = 0\n",
    "            elif weights[i - 1] > j:\n",
    "                dp[i][j] = dp[i - 1][j]\n",
    "            else:\n",
    "                dp[i][j] = max(values[i - 1] + dp[i - 1][j - weights[i - 1]], dp[i - 1][j])\n",
    "    \n",
    "    items = []\n",
    "    i, j = n , capacity\n",
    "    while i > 0 and j > 0:\n",
    "        if dp[i][j] != dp[i - 1][j]:\n",
    "            items.append(i - 1)\n",
    "            j -= weights[i - 1]\n",
    "        i -= 1\n",
    "\n",
    "    items.reverse()\n",
    "    return dp[n][capacity], items\n",
    "\n",
    "\n",
    "values = [20, 30, 10, 50]\n",
    "weights = [1, 3, 4, 6]\n",
    "capacity = 10\n",
    "maxVal, items = knapsack (weights, values, capacity)\n",
    "print(maxVal)\n",
    "print(items)\n"
   ]
  }
 ],
 "metadata": {
  "kernelspec": {
   "display_name": "base",
   "language": "python",
   "name": "python3"
  },
  "language_info": {
   "codemirror_mode": {
    "name": "ipython",
    "version": 3
   },
   "file_extension": ".py",
   "mimetype": "text/x-python",
   "name": "python",
   "nbconvert_exporter": "python",
   "pygments_lexer": "ipython3",
   "version": "3.10.9"
  }
 },
 "nbformat": 4,
 "nbformat_minor": 2
}
