{
 "cells": [
  {
   "cell_type": "code",
   "execution_count": 7,
   "metadata": {},
   "outputs": [
    {
     "name": "stdout",
     "output_type": "stream",
     "text": [
      "a  -->   0\n",
      "b  -->   100\n",
      "d  -->   1010\n",
      "f  -->   10110\n",
      "e  -->   10111\n",
      "c  -->   11\n"
     ]
    }
   ],
   "source": [
    "import heapq\n",
    "\n",
    "class node:\n",
    "    def __init__(self, freq, symbol, left=None, right=None):\n",
    "        self.freq  = freq\n",
    "        self.symbol = symbol\n",
    "        self.left = left\n",
    "        self.right = right\n",
    "        self.huff = ''\n",
    "\n",
    "    def __lt__(self, next):\n",
    "        return self.freq < next.freq\n",
    "\n",
    "def printHuff(node, val = \"\"):\n",
    "    newVal = val + node.huff\n",
    "    if(node.left):\n",
    "        printHuff(node.left, newVal)\n",
    "    if(node.right):\n",
    "        printHuff(node.right, newVal)\n",
    "\n",
    "    if not node.left and not node.right:\n",
    "        print(node.symbol, \" -->  \", newVal)\n",
    "\n",
    "\n",
    "freq = [50, 10, 30, 5, 3, 2]\n",
    "symbol = ['a', 'b', 'c', 'd', 'e', 'f'] \n",
    "nodes = []\n",
    "for i in range(len(freq)):\n",
    "    heapq.heappush(nodes, node(freq[i], symbol[i]))\n",
    "\n",
    "while len(nodes) > 1:\n",
    "    left = heapq.heappop(nodes)\n",
    "    right = heapq.heappop(nodes)\n",
    "    left.huff = '0'\n",
    "    right.huff = '1'\n",
    "    newNode = node(left.freq+right.freq, left.symbol+right.symbol, left, right)\n",
    "    heapq.heappush(nodes, newNode)\n",
    "\n",
    "printHuff(nodes[0])\n",
    "    "
   ]
  }
 ],
 "metadata": {
  "kernelspec": {
   "display_name": "base",
   "language": "python",
   "name": "python3"
  },
  "language_info": {
   "codemirror_mode": {
    "name": "ipython",
    "version": 3
   },
   "file_extension": ".py",
   "mimetype": "text/x-python",
   "name": "python",
   "nbconvert_exporter": "python",
   "pygments_lexer": "ipython3",
   "version": "3.10.9"
  }
 },
 "nbformat": 4,
 "nbformat_minor": 2
}
