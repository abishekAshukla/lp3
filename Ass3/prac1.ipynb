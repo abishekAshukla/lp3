{
 "cells": [
  {
   "cell_type": "code",
   "execution_count": 24,
   "metadata": {},
   "outputs": [
    {
     "name": "stdout",
     "output_type": "stream",
     "text": [
      "a -> 0\n",
      "b -> 100\n",
      "d -> 1010\n",
      "f -> 10110\n",
      "e -> 10111\n",
      "c -> 11\n"
     ]
    }
   ],
   "source": [
    "import heapq\n",
    "\n",
    "# node definition\n",
    "class node: \n",
    "    def __init__(self, freq, symbol, left=None, right=None):  \n",
    "        self.freq = freq \n",
    "        self.symbol = symbol \n",
    "        self.left = left \n",
    "        self.right = right \n",
    "        self.huff = '' \n",
    "  \n",
    "    def __lt__(self, nxt): \n",
    "        return self.freq < nxt.freq \n",
    "\n",
    "def printNodes(node, val=''): \n",
    "  \n",
    "    # huffman code for current node \n",
    "    newVal = val + str(node.huff) \n",
    "  \n",
    "    # if node is not an edge node \n",
    "    # then traverse inside it \n",
    "    if(node.left): \n",
    "        printNodes(node.left, newVal) \n",
    "    if(node.right): \n",
    "        printNodes(node.right, newVal) \n",
    "  \n",
    "        # if node is edge node then \n",
    "        # display its huffman code \n",
    "    if(not node.left and not node.right): \n",
    "        print(f\"{node.symbol} -> {newVal}\") \n",
    "\n",
    "# inputs\n",
    "chars = ['a', 'b', 'c', 'd', 'e', 'f']\n",
    "frequency = [50, 10, 30, 5, 3, 2]\n",
    "\n",
    "# create nodes and them in the min heap\n",
    "nodes = []\n",
    "for x in range(len(chars)):\n",
    "    heapq.heappush(nodes, node(frequency[x], chars[x]))\n",
    "\n",
    "# build huffman tree\n",
    "while len(nodes) > 1:\n",
    "    left = heapq.heappop(nodes)\n",
    "    right = heapq.heappop(nodes)\n",
    "    left.huff = '0'\n",
    "    right.huff = '1'\n",
    "\n",
    "    newNode = node(left.freq+right.freq, left.symbol+right.symbol, left, right )\n",
    "    heapq.heappush(nodes, newNode)\n",
    "\n",
    "printNodes(nodes[0])"
   ]
  }
 ],
 "metadata": {
  "language_info": {
   "name": "python"
  }
 },
 "nbformat": 4,
 "nbformat_minor": 2
}
