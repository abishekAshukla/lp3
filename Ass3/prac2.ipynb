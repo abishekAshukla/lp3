{
 "cells": [
  {
   "cell_type": "code",
   "execution_count": 9,
   "metadata": {},
   "outputs": [
    {
     "name": "stdout",
     "output_type": "stream",
     "text": [
      "a  ->  0\n",
      "b  ->  100\n",
      "d  ->  1010\n",
      "f  ->  10110\n",
      "e  ->  10111\n",
      "c  ->  11\n"
     ]
    }
   ],
   "source": [
    "import heapq\n",
    "\n",
    "class node:\n",
    "    def __init__(self, freq, symbol, left=None, right=None):\n",
    "        self.freq = freq\n",
    "        self.symbol = symbol\n",
    "        self.left = left\n",
    "        self.right = right\n",
    "        self.huff = ''\n",
    "\n",
    "    def __lt__(self, nxt):\n",
    "        return self.freq < nxt.freq\n",
    "\n",
    "def printNodes(node, val=''): \n",
    "  \n",
    "    # huffman code for current node \n",
    "    newVal = val + str(node.huff) \n",
    "  \n",
    "    # if node is not an edge node \n",
    "    # then traverse inside it \n",
    "    if(node.left): \n",
    "        printNodes(node.left, newVal) \n",
    "    if(node.right): \n",
    "        printNodes(node.right, newVal) \n",
    "  \n",
    "        # if node is edge node then \n",
    "        # display its huffman code \n",
    "    if(not node.left and not node.right): \n",
    "        print(f\"{node.symbol} -> {newVal}\") \n",
    "\n",
    "def printNodes1(node, val = \"\"):\n",
    "    newVal = val + str(node.huff)\n",
    "\n",
    "    if(node.left):\n",
    "        printNodes1(node.left, newVal)\n",
    "    if(node.right):\n",
    "         printNodes1(node.right, newVal)\n",
    "\n",
    "    if(not node.left and not node.right):\n",
    "        print(node.symbol , \" -> \", newVal)\n",
    "\n",
    "chars = ['a', 'b', 'c', 'd', 'e', 'f']\n",
    "freq = [50, 10, 30, 5, 3, 2]\n",
    "\n",
    "nodes = []\n",
    "for x in range(len(chars)):\n",
    "    heapq.heappush(nodes, node(freq[x], chars[x]))\n",
    "\n",
    "while len(nodes) > 1:\n",
    "    left = heapq.heappop(nodes)\n",
    "    right = heapq.heappop(nodes)\n",
    "    left.huff = 0\n",
    "    right.huff = 1\n",
    "    newnode = node(left.freq+right.freq, left.symbol+right.symbol, left, right)\n",
    "    heapq.heappush(nodes, newnode)\n",
    "\n",
    "printNodes1(nodes[0])\n",
    "    "
   ]
  }
 ],
 "metadata": {
  "kernelspec": {
   "display_name": "base",
   "language": "python",
   "name": "python3"
  },
  "language_info": {
   "codemirror_mode": {
    "name": "ipython",
    "version": 3
   },
   "file_extension": ".py",
   "mimetype": "text/x-python",
   "name": "python",
   "nbconvert_exporter": "python",
   "pygments_lexer": "ipython3",
   "version": "3.10.9"
  }
 },
 "nbformat": 4,
 "nbformat_minor": 2
}
