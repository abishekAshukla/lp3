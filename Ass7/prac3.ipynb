{
 "cells": [
  {
   "cell_type": "code",
   "execution_count": 4,
   "metadata": {},
   "outputs": [
    {
     "name": "stdout",
     "output_type": "stream",
     "text": [
      "74\n"
     ]
    }
   ],
   "source": [
    "class Item:\n",
    "    def __init__(self, weight, value):\n",
    "        self.weight = weight\n",
    "        self.value = value\n",
    "\n",
    "\n",
    "def solve(items, capacity):\n",
    "    def bound(i, weight, value):\n",
    "        if weight > capacity:\n",
    "            return 0\n",
    "        j = i\n",
    "        t_wt = weight\n",
    "        bdVal =value\n",
    "\n",
    "        while j < n and t_wt + items[j].weight <= capacity:\n",
    "            t_wt += items[j].weight\n",
    "            bdVal += items[j].value\n",
    "            j += 1\n",
    "\n",
    "        if j < n:\n",
    "            bdVal += (capacity - t_wt) * (items[j].value/items[j].weight)\n",
    "        return bdVal\n",
    "\n",
    "\n",
    "    def recurs(i, weight, value):\n",
    "        nonlocal maxVal\n",
    "        if weight <= capacity and value > maxVal:\n",
    "            maxVal = value\n",
    "\n",
    "        if i < n:\n",
    "            if weight + items[i].weight <= capacity:\n",
    "                recurs(i+1, weight + items[i].weight, value + items[i].value)\n",
    "            if bound(i + 1, weight, value) > maxVal:\n",
    "                recurs(i+1, weight, value)\n",
    "\n",
    "    n = len(items)\n",
    "    maxVal = 0\n",
    "    items.sort(key=lambda x: x.value/x.weight, reverse=True)\n",
    "    recurs(0, 0, 0)\n",
    "    return maxVal\n",
    "\n",
    "\n",
    "\n",
    "items = [Item(5, 30), Item(7, 28), Item(4, 20), Item(2, 24)]\n",
    "capacity = 12\n",
    "maxVal = solve(items, capacity)\n",
    "print(maxVal)"
   ]
  }
 ],
 "metadata": {
  "kernelspec": {
   "display_name": "base",
   "language": "python",
   "name": "python3"
  },
  "language_info": {
   "codemirror_mode": {
    "name": "ipython",
    "version": 3
   },
   "file_extension": ".py",
   "mimetype": "text/x-python",
   "name": "python",
   "nbconvert_exporter": "python",
   "pygments_lexer": "ipython3",
   "version": "3.10.9"
  }
 },
 "nbformat": 4,
 "nbformat_minor": 2
}
