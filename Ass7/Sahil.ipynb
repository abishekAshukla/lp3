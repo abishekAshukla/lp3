{
 "cells": [
  {
   "cell_type": "code",
   "execution_count": 2,
   "metadata": {},
   "outputs": [
    {
     "name": "stdout",
     "output_type": "stream",
     "text": [
      "Maximum value in the knapsack: 74\n"
     ]
    }
   ],
   "source": [
    "#USING BRANCH AND BOUND\n",
    "\n",
    "class Item:\n",
    "    def __init__(self, weight, value):\n",
    "        self.weight = weight\n",
    "        self.value = value\n",
    "\n",
    "def knapsack_branch_and_bound(items, capacity):\n",
    "    def bound(i, weight, value):\n",
    "        if weight > capacity:\n",
    "            return 0\n",
    "        bound_value = value\n",
    "        j = i\n",
    "        total_weight = weight\n",
    "        while j < n and total_weight + items[j].weight <= capacity:\n",
    "            total_weight += items[j].weight\n",
    "            bound_value += items[j].value\n",
    "            j += 1\n",
    "        if j < n:\n",
    "            bound_value += (capacity - total_weight) * (items[j].value / items[j].weight)\n",
    "        return bound_value\n",
    "\n",
    "    def knapsack_recursive(i, weight, value):\n",
    "        # update max value\n",
    "        nonlocal max_value\n",
    "        if weight <= capacity and value > max_value:\n",
    "            max_value = value\n",
    "            # include not include\n",
    "        if i < n:\n",
    "            if weight + items[i].weight <= capacity:\n",
    "                knapsack_recursive(i + 1, weight + items[i].weight, value + items[i].value)\n",
    "            if bound(i + 1, weight, value) > max_value:\n",
    "                knapsack_recursive(i + 1, weight, value)\n",
    "\n",
    "    n = len(items)\n",
    "    max_value = 0\n",
    "    items.sort(key=lambda x: x.value / x.weight, reverse=True)\n",
    "    knapsack_recursive(0, 0, 0)\n",
    "    return max_value\n",
    "\n",
    "# Example usage\n",
    "if __name__ == \"__main__\":\n",
    "    items = [Item(5, 30), Item(7, 28), Item(4, 20), Item(2, 24)]\n",
    "    capacity = 12\n",
    "\n",
    "    max_value = knapsack_branch_and_bound(items, capacity)\n",
    "    print(\"Maximum value in the knapsack:\", max_value)"
   ]
  }
 ],
 "metadata": {
  "kernelspec": {
   "display_name": "base",
   "language": "python",
   "name": "python3"
  },
  "language_info": {
   "codemirror_mode": {
    "name": "ipython",
    "version": 3
   },
   "file_extension": ".py",
   "mimetype": "text/x-python",
   "name": "python",
   "nbconvert_exporter": "python",
   "pygments_lexer": "ipython3",
   "version": "3.10.9"
  }
 },
 "nbformat": 4,
 "nbformat_minor": 2
}
