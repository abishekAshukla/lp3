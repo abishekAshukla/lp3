{
 "cells": [
  {
   "cell_type": "code",
   "execution_count": 3,
   "metadata": {},
   "outputs": [
    {
     "name": "stdout",
     "output_type": "stream",
     "text": [
      "74\n"
     ]
    }
   ],
   "source": [
    "class Item:\n",
    "    def __init__(self, weight, value):\n",
    "        self.weight = weight\n",
    "        self.value = value\n",
    "\n",
    "def solve(items, maxCap):\n",
    "    def bound(i, weight, value):\n",
    "        if weight > maxCap:\n",
    "            return 0\n",
    "        tot_wt = weight\n",
    "        bndVal = value\n",
    "        j = i\n",
    "        while j < n and tot_wt + items[j].weight <= maxCap:\n",
    "            tot_wt += items[j].weight\n",
    "            bndVal += items[j].value\n",
    "            j += 1\n",
    "        if j < n:\n",
    "            bndVal += (maxCap - tot_wt) * (items[j].value/items[j].weight)\n",
    "        return bndVal\n",
    "\n",
    "    def recursive(i, weight, value):\n",
    "        # update maxValue\n",
    "        nonlocal maxVal\n",
    "        if weight <= maxCap and value > maxVal:\n",
    "            maxVal = value\n",
    "\n",
    "        # include not include\n",
    "        if i < n:\n",
    "            if weight + items[i].weight <= maxCap:\n",
    "                recursive(i + 1, weight + items[i].weight , value + items[i].value)\n",
    "            if bound(i + 1, weight, value) > maxVal:\n",
    "                recursive(i + 1, weight , value)\n",
    "\n",
    "\n",
    "    n = len(items)\n",
    "    maxVal = 0\n",
    "    items.sort(key=lambda x: x.value/x.weight, reverse=True)\n",
    "    recursive(0, 0, 0)\n",
    "    return maxVal\n",
    "\n",
    "\n",
    "items = [Item(5, 30), Item(7, 28), Item(4, 20), Item(2, 24)]\n",
    "capacity = 12\n",
    "maxVal = solve(items, capacity)\n",
    "print(maxVal)"
   ]
  }
 ],
 "metadata": {
  "kernelspec": {
   "display_name": "base",
   "language": "python",
   "name": "python3"
  },
  "language_info": {
   "codemirror_mode": {
    "name": "ipython",
    "version": 3
   },
   "file_extension": ".py",
   "mimetype": "text/x-python",
   "name": "python",
   "nbconvert_exporter": "python",
   "pygments_lexer": "ipython3",
   "version": "3.10.9"
  }
 },
 "nbformat": 4,
 "nbformat_minor": 2
}
